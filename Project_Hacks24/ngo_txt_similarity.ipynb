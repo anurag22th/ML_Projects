{
  "nbformat": 4,
  "nbformat_minor": 0,
  "metadata": {
    "colab": {
      "provenance": []
    },
    "kernelspec": {
      "name": "python3",
      "display_name": "Python 3"
    },
    "language_info": {
      "name": "python"
    }
  },
  "cells": [
    {
      "cell_type": "code",
      "source": [
        "import en_core_web_sm\n",
        "import numpy as np\n",
        "from numpy import dot\n",
        "from numpy.linalg import norm\n"
      ],
      "metadata": {
        "id": "qJUD2j4pZNew"
      },
      "execution_count": 218,
      "outputs": []
    },
    {
      "cell_type": "code",
      "source": [
        "ngo_text = [\n",
        "    \"As members of Leadership Initiatives (LI) International Internship Program, we have been working through our partnership with the Bauchi community, to address human rights abuses through advocacy and raising awareness through research, community workshops, and educational training programs. LI and the team aim to mobilize support, secure adequate funding, empower local organizations to combat human rights violations.\",\n",
        "    \"Conflict continues to escalate in Israel and Palestine, and thousands of innocent children and civilians have been killed, injured, or taken hostage. Millions are facing a devastating humanitarian crisis in Gaza with a dire need for aid. Your donation to the Israel-Palestine Crisis Relief Fund will provide emergency relief and long-term support to people in need.\",\n",
        "    \"By donating to this project, you contribute to the purchase of medical equipment, hospital furniture and the improvement of the physical infrastructure of the Children Hospital of San Vicente Foundation. Thus, every year, 60,000 children in Colombia, with serious illnesses, will continue to receive the best specialized medical care.\",\n",
        "    \"Through this project we want to initiate a business model for poor rural women of 10 areas based on organic and commercial kitchen gardening to transform the low income women lives from poverty to prosperity. Women Vegetable Clubs (WVC) is an idea to club rural women for collective entrepreneurship through organic commercial kitchen gardening. As the project is highly sustainable therefore it will be initiated from from 1 rural area and will move towards the next 9 areas after the completion.\",\n",
        "    \"Sudan is experiencing a catastrophic civil war as violent clashes between paramilitary and government forces threaten the lives of people across the country. Since April 2023, thousands of Sudanese have been killed, and millions more injured and displaced in the fighting. Your donation to the Sudan Emergency Fund will provide emergency relief, food, water, medicine, and other essential supplies to impacted communities.\",\n",
        "    \"Two powerful earthquakes struck Turkey and Syria on Feb. 6, killing more than 50,000 people and injuring thousands more. Millions of survivors urgently need help. Your donation to the Turkey and Syria Earthquake Relief Fund will provide emergency relief and fuel long-term recovery efforts in Turkey and Syria.\",\n",
        "    \"Devastating floods hit Libya eastern region on Monday, killing thousands of people, injuring thousands more, and causing widespread damage. Your donation to the Libya Flood Relief Fund will provide emergency relief and long-term support to affected communities.\",\n",
        "    \"Millions of Haitians are confronting a complex crisis driven by political and economic turmoil, leading to widespread violence and food and water scarcity. Haiti is also struggling to recover from and prepare for hurricanes and earthquakes. Your donation to the Haiti Crisis Relief Fund will provide emergency assistance to people in need and support long-term response efforts led by local organizations who continue to deliver vital services.\",\n",
        "    \"Isha Vidhya English-medium schools provide high quality school education to rural children in India who cannot otherwise access or afford it. The schools adopt a nurturing, holistic approach to education, helping children learn joyfully. 64% of the children get full sponsorship while rest pay a subsidized fee. Your donation goes towards critical infrastructure like learning material (including STEM), classrooms, school bus, etc. for 10 Isha Vidhya rural schools & Govt. Schools Support Program.\",\n",
        "    \"Your child is visually impaired. What is the right thing to do? Where do you find help? Upon diagnosis of the visual impairment, parents are often in shock and needed time to come to terms with the situation. At St. Nicholas Home, parents of visually impaired children are encouraged to join the Early Intervention Programme (home-based) to help them to understand, garner support and receive counselling to help them c\",\n",
        "    \"The food scarcity is a severe issue that impacts the optimal growth and development of young children that Albergue supports. With your help, we can make it possible for a child to eat three meals a day and the essential nutritional follow-up necessary for their integral development.\",\n",
        "  ]"
      ],
      "metadata": {
        "id": "aKKxsNdA7_uk"
      },
      "execution_count": 223,
      "outputs": []
    },
    {
      "cell_type": "code",
      "source": [
        "def model(text) :\n",
        "  nlp = spacy.load(\"en_core_web_sm\")\n",
        "  query = text\n",
        "  sim_scores = []\n",
        "\n",
        "  # Vectorize input query\n",
        "  q_vector=nlp(query).vector\n",
        "\n",
        "  for txt in ngo_text:\n",
        "    # Vectorize document\n",
        "    doc_vector=nlp(ngo_text).vector\n",
        "    # Cosine Similarity\n",
        "    cos_sim = dot(q_vector, doc_vector)/(norm(q_vector)*norm(doc_vector))\n",
        "    # append the score\n",
        "    sim_scores.append(cos_sim)\n",
        "\n",
        "    # sorting most similar sentences\n",
        "    top_index=list(np.argsort(sim_scores)[-5:])\n",
        "    top_index.reverse()\n",
        "\n",
        "    print(\"\\nMost Similar Documents:\\n\")\n",
        "    for i in top_index:\n",
        "      print(ngo_text[i])\n"
      ],
      "metadata": {
        "id": "4jmblXh0VbOx"
      },
      "execution_count": 224,
      "outputs": []
    },
    {
      "cell_type": "code",
      "source": [
        "text = \"I want to help blind.\"\n",
        "print(text)\n",
        "text = str(text)\n",
        "model(text)"
      ],
      "metadata": {
        "colab": {
          "base_uri": "https://localhost:8080/",
          "height": 374
        },
        "id": "tPrReLxLwQuq",
        "outputId": "b0c1e5f5-46ae-4da8-f8b6-9c8e8e16d731"
      },
      "execution_count": 229,
      "outputs": [
        {
          "output_type": "stream",
          "name": "stdout",
          "text": [
            "I want to help blind.\n"
          ]
        },
        {
          "output_type": "error",
          "ename": "ValueError",
          "evalue": "[E1041] Expected a string, Doc, or bytes as input, but got: <class 'list'>",
          "traceback": [
            "\u001b[0;31m---------------------------------------------------------------------------\u001b[0m",
            "\u001b[0;31mValueError\u001b[0m                                Traceback (most recent call last)",
            "\u001b[0;32m<ipython-input-229-d79a873b0f83>\u001b[0m in \u001b[0;36m<cell line: 4>\u001b[0;34m()\u001b[0m\n\u001b[1;32m      2\u001b[0m \u001b[0mprint\u001b[0m\u001b[0;34m(\u001b[0m\u001b[0mtext\u001b[0m\u001b[0;34m)\u001b[0m\u001b[0;34m\u001b[0m\u001b[0;34m\u001b[0m\u001b[0m\n\u001b[1;32m      3\u001b[0m \u001b[0mtext\u001b[0m \u001b[0;34m=\u001b[0m \u001b[0mstr\u001b[0m\u001b[0;34m(\u001b[0m\u001b[0mtext\u001b[0m\u001b[0;34m)\u001b[0m\u001b[0;34m\u001b[0m\u001b[0;34m\u001b[0m\u001b[0m\n\u001b[0;32m----> 4\u001b[0;31m \u001b[0mmodel\u001b[0m\u001b[0;34m(\u001b[0m\u001b[0mtext\u001b[0m\u001b[0;34m)\u001b[0m\u001b[0;34m\u001b[0m\u001b[0;34m\u001b[0m\u001b[0m\n\u001b[0m",
            "\u001b[0;32m<ipython-input-224-87208aec2fa2>\u001b[0m in \u001b[0;36mmodel\u001b[0;34m(text)\u001b[0m\n\u001b[1;32m      9\u001b[0m   \u001b[0;32mfor\u001b[0m \u001b[0mtxt\u001b[0m \u001b[0;32min\u001b[0m \u001b[0mngo_text\u001b[0m\u001b[0;34m:\u001b[0m\u001b[0;34m\u001b[0m\u001b[0;34m\u001b[0m\u001b[0m\n\u001b[1;32m     10\u001b[0m     \u001b[0;31m# Vectorize document\u001b[0m\u001b[0;34m\u001b[0m\u001b[0;34m\u001b[0m\u001b[0m\n\u001b[0;32m---> 11\u001b[0;31m     \u001b[0mdoc_vector\u001b[0m\u001b[0;34m=\u001b[0m\u001b[0mnlp\u001b[0m\u001b[0;34m(\u001b[0m\u001b[0mngo_text\u001b[0m\u001b[0;34m)\u001b[0m\u001b[0;34m.\u001b[0m\u001b[0mvector\u001b[0m\u001b[0;34m\u001b[0m\u001b[0;34m\u001b[0m\u001b[0m\n\u001b[0m\u001b[1;32m     12\u001b[0m     \u001b[0;31m# Cosine Similarity\u001b[0m\u001b[0;34m\u001b[0m\u001b[0;34m\u001b[0m\u001b[0m\n\u001b[1;32m     13\u001b[0m     \u001b[0mcos_sim\u001b[0m \u001b[0;34m=\u001b[0m \u001b[0mdot\u001b[0m\u001b[0;34m(\u001b[0m\u001b[0mq_vector\u001b[0m\u001b[0;34m,\u001b[0m \u001b[0mdoc_vector\u001b[0m\u001b[0;34m)\u001b[0m\u001b[0;34m/\u001b[0m\u001b[0;34m(\u001b[0m\u001b[0mnorm\u001b[0m\u001b[0;34m(\u001b[0m\u001b[0mq_vector\u001b[0m\u001b[0;34m)\u001b[0m\u001b[0;34m*\u001b[0m\u001b[0mnorm\u001b[0m\u001b[0;34m(\u001b[0m\u001b[0mdoc_vector\u001b[0m\u001b[0;34m)\u001b[0m\u001b[0;34m)\u001b[0m\u001b[0;34m\u001b[0m\u001b[0;34m\u001b[0m\u001b[0m\n",
            "\u001b[0;32m/usr/local/lib/python3.10/dist-packages/spacy/language.py\u001b[0m in \u001b[0;36m__call__\u001b[0;34m(self, text, disable, component_cfg)\u001b[0m\n\u001b[1;32m   1028\u001b[0m         \u001b[0mDOCS\u001b[0m\u001b[0;34m:\u001b[0m \u001b[0mhttps\u001b[0m\u001b[0;34m:\u001b[0m\u001b[0;34m//\u001b[0m\u001b[0mspacy\u001b[0m\u001b[0;34m.\u001b[0m\u001b[0mio\u001b[0m\u001b[0;34m/\u001b[0m\u001b[0mapi\u001b[0m\u001b[0;34m/\u001b[0m\u001b[0mlanguage\u001b[0m\u001b[0;31m#call\u001b[0m\u001b[0;34m\u001b[0m\u001b[0;34m\u001b[0m\u001b[0m\n\u001b[1;32m   1029\u001b[0m         \"\"\"\n\u001b[0;32m-> 1030\u001b[0;31m         \u001b[0mdoc\u001b[0m \u001b[0;34m=\u001b[0m \u001b[0mself\u001b[0m\u001b[0;34m.\u001b[0m\u001b[0m_ensure_doc\u001b[0m\u001b[0;34m(\u001b[0m\u001b[0mtext\u001b[0m\u001b[0;34m)\u001b[0m\u001b[0;34m\u001b[0m\u001b[0;34m\u001b[0m\u001b[0m\n\u001b[0m\u001b[1;32m   1031\u001b[0m         \u001b[0;32mif\u001b[0m \u001b[0mcomponent_cfg\u001b[0m \u001b[0;32mis\u001b[0m \u001b[0;32mNone\u001b[0m\u001b[0;34m:\u001b[0m\u001b[0;34m\u001b[0m\u001b[0;34m\u001b[0m\u001b[0m\n\u001b[1;32m   1032\u001b[0m             \u001b[0mcomponent_cfg\u001b[0m \u001b[0;34m=\u001b[0m \u001b[0;34m{\u001b[0m\u001b[0;34m}\u001b[0m\u001b[0;34m\u001b[0m\u001b[0;34m\u001b[0m\u001b[0m\n",
            "\u001b[0;32m/usr/local/lib/python3.10/dist-packages/spacy/language.py\u001b[0m in \u001b[0;36m_ensure_doc\u001b[0;34m(self, doc_like)\u001b[0m\n\u001b[1;32m   1122\u001b[0m         \u001b[0;32mif\u001b[0m \u001b[0misinstance\u001b[0m\u001b[0;34m(\u001b[0m\u001b[0mdoc_like\u001b[0m\u001b[0;34m,\u001b[0m \u001b[0mbytes\u001b[0m\u001b[0;34m)\u001b[0m\u001b[0;34m:\u001b[0m\u001b[0;34m\u001b[0m\u001b[0;34m\u001b[0m\u001b[0m\n\u001b[1;32m   1123\u001b[0m             \u001b[0;32mreturn\u001b[0m \u001b[0mDoc\u001b[0m\u001b[0;34m(\u001b[0m\u001b[0mself\u001b[0m\u001b[0;34m.\u001b[0m\u001b[0mvocab\u001b[0m\u001b[0;34m)\u001b[0m\u001b[0;34m.\u001b[0m\u001b[0mfrom_bytes\u001b[0m\u001b[0;34m(\u001b[0m\u001b[0mdoc_like\u001b[0m\u001b[0;34m)\u001b[0m\u001b[0;34m\u001b[0m\u001b[0;34m\u001b[0m\u001b[0m\n\u001b[0;32m-> 1124\u001b[0;31m         \u001b[0;32mraise\u001b[0m \u001b[0mValueError\u001b[0m\u001b[0;34m(\u001b[0m\u001b[0mErrors\u001b[0m\u001b[0;34m.\u001b[0m\u001b[0mE1041\u001b[0m\u001b[0;34m.\u001b[0m\u001b[0mformat\u001b[0m\u001b[0;34m(\u001b[0m\u001b[0mtype\u001b[0m\u001b[0;34m=\u001b[0m\u001b[0mtype\u001b[0m\u001b[0;34m(\u001b[0m\u001b[0mdoc_like\u001b[0m\u001b[0;34m)\u001b[0m\u001b[0;34m)\u001b[0m\u001b[0;34m)\u001b[0m\u001b[0;34m\u001b[0m\u001b[0;34m\u001b[0m\u001b[0m\n\u001b[0m\u001b[1;32m   1125\u001b[0m \u001b[0;34m\u001b[0m\u001b[0m\n\u001b[1;32m   1126\u001b[0m     def _ensure_doc_with_context(\n",
            "\u001b[0;31mValueError\u001b[0m: [E1041] Expected a string, Doc, or bytes as input, but got: <class 'list'>"
          ]
        }
      ]
    },
    {
      "cell_type": "code",
      "source": [
        "import spacy\n",
        "from scipy import spatial"
      ],
      "metadata": {
        "id": "MSAKNCSJ9Qcv"
      },
      "execution_count": 230,
      "outputs": []
    },
    {
      "cell_type": "code",
      "source": [
        "nlp = spacy.load(\"en_core_web_sm\")"
      ],
      "metadata": {
        "id": "bwplehJj9TUT"
      },
      "execution_count": 231,
      "outputs": []
    },
    {
      "cell_type": "code",
      "source": [
        "def model(text):\n",
        "\n",
        "  ngo_text = [\n",
        "    \"As members of Leadership Initiatives (LI) International Internship Program, we have been working through our partnership with the Bauchi community, to address human rights abuses through advocacy and raising awareness through research, community workshops, and educational training programs. LI and the team aim to mobilize support, secure adequate funding, empower local organizations to combat human rights violations.\",\n",
        "    \"Conflict continues to escalate in Israel and Palestine, and thousands of innocent children and civilians have been killed, injured, or taken hostage. Millions are facing a devastating humanitarian crisis in Gaza with a dire need for aid. Your donation to the Israel-Palestine Crisis Relief Fund will provide emergency relief and long-term support to people in need.\",\n",
        "    \"By donating to this project, you contribute to the purchase of medical equipment, hospital furniture and the improvement of the physical infrastructure of the Children Hospital of San Vicente Foundation. Thus, every year, 60,000 children in Colombia, with serious illnesses, will continue to receive the best specialized medical care.\",\n",
        "    \"Through this project we want to initiate a business model for poor rural women of 10 areas based on organic and commercial kitchen gardening to transform the low income women lives from poverty to prosperity. Women Vegetable Clubs (WVC) is an idea to club rural women for collective entrepreneurship through organic commercial kitchen gardening. As the project is highly sustainable therefore it will be initiated from from 1 rural area and will move towards the next 9 areas after the completion.\",\n",
        "    \"Sudan is experiencing a catastrophic civil war as violent clashes between paramilitary and government forces threaten the lives of people across the country. Since April 2023, thousands of Sudanese have been killed, and millions more injured and displaced in the fighting. Your donation to the Sudan Emergency Fund will provide emergency relief, food, water, medicine, and other essential supplies to impacted communities.\",\n",
        "    \"Two powerful earthquakes struck Turkey and Syria on Feb. 6, killing more than 50,000 people and injuring thousands more. Millions of survivors urgently need help. Your donation to the Turkey and Syria Earthquake Relief Fund will provide emergency relief and fuel long-term recovery efforts in Turkey and Syria.\",\n",
        "    \"Devastating floods hit Libya eastern region on Monday, killing thousands of people, injuring thousands more, and causing widespread damage. Your donation to the Libya Flood Relief Fund will provide emergency relief and long-term support to affected communities.\",\n",
        "    \"Millions of Haitians are confronting a complex crisis driven by political and economic turmoil, leading to widespread violence and food and water scarcity. Haiti is also struggling to recover from and prepare for hurricanes and earthquakes. Your donation to the Haiti Crisis Relief Fund will provide emergency assistance to people in need and support long-term response efforts led by local organizations who continue to deliver vital services.\",\n",
        "    \"Isha Vidhya English-medium schools provide high quality school education to rural children in India who cannot otherwise access or afford it. The schools adopt a nurturing, holistic approach to education, helping children learn joyfully. 64% of the children get full sponsorship while rest pay a subsidized fee. Your donation goes towards critical infrastructure like learning material (including STEM), classrooms, school bus, etc. for 10 Isha Vidhya rural schools & Govt. Schools Support Program.\",\n",
        "    \"Your child is visually impaired. What is the right thing to do? Where do you find help? Upon diagnosis of the visual impairment, parents are often in shock and needed time to come to terms with the situation. At St. Nicholas Home, parents of visually impaired children are encouraged to join the Early Intervention Programme (home-based) to help them to understand, garner support and receive counselling to help them c\",\n",
        "    \"The food scarcity is a severe issue that impacts the optimal growth and development of young children that Albergue supports. With your help, we can make it possible for a child to eat three meals a day and the essential nutritional follow-up necessary for their integral development.\",\n",
        "  ]\n",
        "\n",
        "  # Vectorize the input text\n",
        "  q_vector = nlp(text).vector\n",
        "  # Initialize a list to store cosine similarities\n",
        "  cos_similarities = []\n",
        "  # Loop through each NGO text\n",
        "  for ngo_text in ngo_text:\n",
        "    # Vectorize the NGO text\n",
        "    doc_vector = nlp(ngo_text).vector\n",
        "    # Calculate the cosine similarity between the input text and the NGO text\n",
        "    cos_sim = spatial.distance.cosine(q_vector, doc_vector)\n",
        "    # Append the cosine similarity to the list\n",
        "    cos_similarities.append(cos_sim)\n",
        "     # Return the list of cosine similarities\n",
        "  return print(cos_similarities)\n"
      ],
      "metadata": {
        "id": "MtBcgfUI9VkL"
      },
      "execution_count": 322,
      "outputs": []
    },
    {
      "cell_type": "code",
      "source": [
        "text = \"blind children help \"\n",
        "# Convert the text to a string\n",
        "text = str(text)\n",
        "# Call the model function with the string input\n",
        "model(text)"
      ],
      "metadata": {
        "colab": {
          "base_uri": "https://localhost:8080/"
        },
        "id": "9pNHAHcs9X-V",
        "outputId": "76a3417b-276f-4f6b-abb6-0b0fd092eee3"
      },
      "execution_count": 325,
      "outputs": [
        {
          "output_type": "stream",
          "name": "stdout",
          "text": [
            "[0.5333881676197052, 0.6249513030052185, 0.7354921698570251, 0.6586207747459412, 0.6265420615673065, 0.6382087469100952, 0.604931503534317, 0.6028119325637817, 0.5327865481376648, 0.5430855453014374, 0.6591346263885498]\n"
          ]
        }
      ]
    },
    {
      "cell_type": "code",
      "source": [
        "! pip install sentence-transformers\n"
      ],
      "metadata": {
        "colab": {
          "base_uri": "https://localhost:8080/"
        },
        "id": "NV8aqQNFWkkX",
        "outputId": "2a9dbbed-1884-4b9a-de28-78b7e7dc6596"
      },
      "execution_count": 334,
      "outputs": [
        {
          "output_type": "stream",
          "name": "stdout",
          "text": [
            "Collecting sentence-transformers\n",
            "  Downloading sentence_transformers-2.3.1-py3-none-any.whl (132 kB)\n",
            "\u001b[?25l     \u001b[90m━━━━━━━━━━━━━━━━━━━━━━━━━━━━━━━━━━━━━━━━\u001b[0m \u001b[32m0.0/132.8 kB\u001b[0m \u001b[31m?\u001b[0m eta \u001b[36m-:--:--\u001b[0m\r\u001b[2K     \u001b[90m━━━━━━━━━━━━━━━━━━━━━━━━━━━━━━━━━━━━━━━━\u001b[0m \u001b[32m132.8/132.8 kB\u001b[0m \u001b[31m3.8 MB/s\u001b[0m eta \u001b[36m0:00:00\u001b[0m\n",
            "\u001b[?25hRequirement already satisfied: transformers<5.0.0,>=4.32.0 in /usr/local/lib/python3.10/dist-packages (from sentence-transformers) (4.35.2)\n",
            "Requirement already satisfied: tqdm in /usr/local/lib/python3.10/dist-packages (from sentence-transformers) (4.66.1)\n",
            "Requirement already satisfied: torch>=1.11.0 in /usr/local/lib/python3.10/dist-packages (from sentence-transformers) (2.1.0+cu121)\n",
            "Requirement already satisfied: numpy in /usr/local/lib/python3.10/dist-packages (from sentence-transformers) (1.23.5)\n",
            "Requirement already satisfied: scikit-learn in /usr/local/lib/python3.10/dist-packages (from sentence-transformers) (1.2.2)\n",
            "Requirement already satisfied: scipy in /usr/local/lib/python3.10/dist-packages (from sentence-transformers) (1.11.4)\n",
            "Requirement already satisfied: nltk in /usr/local/lib/python3.10/dist-packages (from sentence-transformers) (3.8.1)\n",
            "Requirement already satisfied: sentencepiece in /usr/local/lib/python3.10/dist-packages (from sentence-transformers) (0.1.99)\n",
            "Requirement already satisfied: huggingface-hub>=0.15.1 in /usr/local/lib/python3.10/dist-packages (from sentence-transformers) (0.20.3)\n",
            "Requirement already satisfied: Pillow in /usr/local/lib/python3.10/dist-packages (from sentence-transformers) (9.4.0)\n",
            "Requirement already satisfied: filelock in /usr/local/lib/python3.10/dist-packages (from huggingface-hub>=0.15.1->sentence-transformers) (3.13.1)\n",
            "Requirement already satisfied: fsspec>=2023.5.0 in /usr/local/lib/python3.10/dist-packages (from huggingface-hub>=0.15.1->sentence-transformers) (2023.6.0)\n",
            "Requirement already satisfied: requests in /usr/local/lib/python3.10/dist-packages (from huggingface-hub>=0.15.1->sentence-transformers) (2.31.0)\n",
            "Requirement already satisfied: pyyaml>=5.1 in /usr/local/lib/python3.10/dist-packages (from huggingface-hub>=0.15.1->sentence-transformers) (6.0.1)\n",
            "Requirement already satisfied: typing-extensions>=3.7.4.3 in /usr/local/lib/python3.10/dist-packages (from huggingface-hub>=0.15.1->sentence-transformers) (4.5.0)\n",
            "Requirement already satisfied: packaging>=20.9 in /usr/local/lib/python3.10/dist-packages (from huggingface-hub>=0.15.1->sentence-transformers) (23.2)\n",
            "Requirement already satisfied: sympy in /usr/local/lib/python3.10/dist-packages (from torch>=1.11.0->sentence-transformers) (1.12)\n",
            "Requirement already satisfied: networkx in /usr/local/lib/python3.10/dist-packages (from torch>=1.11.0->sentence-transformers) (3.2.1)\n",
            "Requirement already satisfied: jinja2 in /usr/local/lib/python3.10/dist-packages (from torch>=1.11.0->sentence-transformers) (3.1.3)\n",
            "Requirement already satisfied: triton==2.1.0 in /usr/local/lib/python3.10/dist-packages (from torch>=1.11.0->sentence-transformers) (2.1.0)\n",
            "Requirement already satisfied: regex!=2019.12.17 in /usr/local/lib/python3.10/dist-packages (from transformers<5.0.0,>=4.32.0->sentence-transformers) (2023.6.3)\n",
            "Requirement already satisfied: tokenizers<0.19,>=0.14 in /usr/local/lib/python3.10/dist-packages (from transformers<5.0.0,>=4.32.0->sentence-transformers) (0.15.1)\n",
            "Requirement already satisfied: safetensors>=0.3.1 in /usr/local/lib/python3.10/dist-packages (from transformers<5.0.0,>=4.32.0->sentence-transformers) (0.4.2)\n",
            "Requirement already satisfied: click in /usr/local/lib/python3.10/dist-packages (from nltk->sentence-transformers) (8.1.7)\n",
            "Requirement already satisfied: joblib in /usr/local/lib/python3.10/dist-packages (from nltk->sentence-transformers) (1.3.2)\n",
            "Requirement already satisfied: threadpoolctl>=2.0.0 in /usr/local/lib/python3.10/dist-packages (from scikit-learn->sentence-transformers) (3.2.0)\n",
            "Requirement already satisfied: MarkupSafe>=2.0 in /usr/local/lib/python3.10/dist-packages (from jinja2->torch>=1.11.0->sentence-transformers) (2.1.4)\n",
            "Requirement already satisfied: charset-normalizer<4,>=2 in /usr/local/lib/python3.10/dist-packages (from requests->huggingface-hub>=0.15.1->sentence-transformers) (3.3.2)\n",
            "Requirement already satisfied: idna<4,>=2.5 in /usr/local/lib/python3.10/dist-packages (from requests->huggingface-hub>=0.15.1->sentence-transformers) (3.6)\n",
            "Requirement already satisfied: urllib3<3,>=1.21.1 in /usr/local/lib/python3.10/dist-packages (from requests->huggingface-hub>=0.15.1->sentence-transformers) (2.0.7)\n",
            "Requirement already satisfied: certifi>=2017.4.17 in /usr/local/lib/python3.10/dist-packages (from requests->huggingface-hub>=0.15.1->sentence-transformers) (2023.11.17)\n",
            "Requirement already satisfied: mpmath>=0.19 in /usr/local/lib/python3.10/dist-packages (from sympy->torch>=1.11.0->sentence-transformers) (1.3.0)\n",
            "Installing collected packages: sentence-transformers\n",
            "Successfully installed sentence-transformers-2.3.1\n"
          ]
        }
      ]
    },
    {
      "cell_type": "code",
      "source": [
        "from sentence_transformers import SentenceTransformer\n",
        "from sklearn.metrics.pairwise import cosine_similarity\n",
        "\n",
        "def find_most_similar_strings(input_string, dataset):\n",
        "    # Load the pre-trained BERT model\n",
        "    model = SentenceTransformer('bert-base-nli-mean-tokens')\n",
        "\n",
        "    # Generate embeddings for the input string and the dataset strings\n",
        "    input_embedding = model.encode([input_string])[0]\n",
        "    dataset_embeddings = model.encode(dataset)\n",
        "\n",
        "    # Compute cosine similarity between the input embedding and each dataset embedding\n",
        "    similarities = cosine_similarity([input_embedding], dataset_embeddings)[0]\n",
        "\n",
        "    # Combine similarities with dataset strings\n",
        "    combined_results = list(zip(dataset, similarities))\n",
        "\n",
        "    # Sort the combined results based on similarity scores in descending order\n",
        "    combined_results.sort(key=lambda x: x[1], reverse=True)\n",
        "\n",
        "    # Return the ten most similar strings and their similarity scores\n",
        "    return combined_results[:10]\n",
        "\n",
        "# Dataset of strings\n",
        "dataset = [\n",
        "    \"As members of Leadership Initiatives (LI) International Internship Program, we have been working through our partnership with the Bauchi community, to address human rights abuses through advocacy and raising awareness through research, community workshops, and educational training programs. LI and the team aim to mobilize support, secure adequate funding, empower local organizations to combat human rights violations.\",\n",
        "    \"Conflict continues to escalate in Israel and Palestine, and thousands of innocent children and civilians have been killed, injured, or taken hostage. Millions are facing a devastating humanitarian crisis in Gaza with a dire need for aid. Your donation to the Israel-Palestine Crisis Relief Fund will provide emergency relief and long-term support to people in need.\",\n",
        "    \"By donating to this project, you contribute to the purchase of medical equipment, hospital furniture and the improvement of the physical infrastructure of the Children Hospital of San Vicente Foundation. Thus, every year, 60,000 children in Colombia, with serious illnesses, will continue to receive the best specialized medical care.\",\n",
        "    \"Through this project we want to initiate a business model for poor rural women of 10 areas based on organic and commercial kitchen gardening to transform the low income women lives from poverty to prosperity. Women Vegetable Clubs (WVC) is an idea to club rural women for collective entrepreneurship through organic commercial kitchen gardening. As the project is highly sustainable therefore it will be initiated from from 1 rural area and will move towards the next 9 areas after the completion.\",\n",
        "    \"Sudan is experiencing a catastrophic civil war as violent clashes between paramilitary and government forces threaten the lives of people across the country. Since April 2023, thousands of Sudanese have been killed, and millions more injured and displaced in the fighting. Your donation to the Sudan Emergency Fund will provide emergency relief, food, water, medicine, and other essential supplies to impacted communities.\",\n",
        "    \"Two powerful earthquakes struck Turkey and Syria on Feb. 6, killing more than 50,000 people and injuring thousands more. Millions of survivors urgently need help. Your donation to the Turkey and Syria Earthquake Relief Fund will provide emergency relief and fuel long-term recovery efforts in Turkey and Syria.\",\n",
        "    \"Devastating floods hit Libya eastern region on Monday, killing thousands of people, injuring thousands more, and causing widespread damage. Your donation to the Libya Flood Relief Fund will provide emergency relief and long-term support to affected communities.\",\n",
        "    \"Millions of Haitians are confronting a complex crisis driven by political and economic turmoil, leading to widespread violence and food and water scarcity. Haiti is also struggling to recover from and prepare for hurricanes and earthquakes. Your donation to the Haiti Crisis Relief Fund will provide emergency assistance to people in need and support long-term response efforts led by local organizations who continue to deliver vital services.\",\n",
        "    \"Isha Vidhya English-medium schools provide high quality school education to rural children in India who cannot otherwise access or afford it. The schools adopt a nurturing, holistic approach to education, helping children learn joyfully. 64% of the children get full sponsorship while rest pay a subsidized fee. Your donation goes towards critical infrastructure like learning material (including STEM), classrooms, school bus, etc. for 10 Isha Vidhya rural schools & Govt. Schools Support Program.\",\n",
        "    \"Your child is visually impaired. What is the right thing to do? Where do you find help? Upon diagnosis of the visual impairment, parents are often in shock and needed time to come to terms with the situation. At St. Nicholas Home, parents of visually impaired children are encouraged to join the Early Intervention Programme (home-based) to help them to understand, garner support and receive counselling to help them c\",\n",
        "    \"The food scarcity is a severe issue that impacts the optimal growth and development of young children that Albergue supports. With your help, we can make it possible for a child to eat three meals a day and the essential nutritional follow-up necessary for their integral development.\"\n",
        "]\n",
        "\n",
        "# Example usage:\n",
        "input_string = \"We are suffering from civil war please provide help.\"\n",
        "most_similar_strings = find_most_similar_strings(input_string, dataset)\n",
        "print(\"Ten Most Similar Strings:\")\n",
        "for string, similarity in most_similar_strings:\n",
        "    print(f\"String: {string}\")\n",
        "    print()\n"
      ],
      "metadata": {
        "colab": {
          "base_uri": "https://localhost:8080/"
        },
        "id": "Y4FY86U3Wh-m",
        "outputId": "6b41cae2-4a73-4616-b2c6-4950f902b1fb"
      },
      "execution_count": 339,
      "outputs": [
        {
          "output_type": "stream",
          "name": "stdout",
          "text": [
            "Ten Most Similar Strings:\n",
            "String: Millions of Haitians are confronting a complex crisis driven by political and economic turmoil, leading to widespread violence and food and water scarcity. Haiti is also struggling to recover from and prepare for hurricanes and earthquakes. Your donation to the Haiti Crisis Relief Fund will provide emergency assistance to people in need and support long-term response efforts led by local organizations who continue to deliver vital services.\n",
            "\n",
            "String: Conflict continues to escalate in Israel and Palestine, and thousands of innocent children and civilians have been killed, injured, or taken hostage. Millions are facing a devastating humanitarian crisis in Gaza with a dire need for aid. Your donation to the Israel-Palestine Crisis Relief Fund will provide emergency relief and long-term support to people in need.\n",
            "\n",
            "String: Sudan is experiencing a catastrophic civil war as violent clashes between paramilitary and government forces threaten the lives of people across the country. Since April 2023, thousands of Sudanese have been killed, and millions more injured and displaced in the fighting. Your donation to the Sudan Emergency Fund will provide emergency relief, food, water, medicine, and other essential supplies to impacted communities.\n",
            "\n",
            "String: Your child is visually impaired. What is the right thing to do? Where do you find help? Upon diagnosis of the visual impairment, parents are often in shock and needed time to come to terms with the situation. At St. Nicholas Home, parents of visually impaired children are encouraged to join the Early Intervention Programme (home-based) to help them to understand, garner support and receive counselling to help them c\n",
            "\n",
            "String: As members of Leadership Initiatives (LI) International Internship Program, we have been working through our partnership with the Bauchi community, to address human rights abuses through advocacy and raising awareness through research, community workshops, and educational training programs. LI and the team aim to mobilize support, secure adequate funding, empower local organizations to combat human rights violations.\n",
            "\n",
            "String: Devastating floods hit Libya eastern region on Monday, killing thousands of people, injuring thousands more, and causing widespread damage. Your donation to the Libya Flood Relief Fund will provide emergency relief and long-term support to affected communities.\n",
            "\n",
            "String: Two powerful earthquakes struck Turkey and Syria on Feb. 6, killing more than 50,000 people and injuring thousands more. Millions of survivors urgently need help. Your donation to the Turkey and Syria Earthquake Relief Fund will provide emergency relief and fuel long-term recovery efforts in Turkey and Syria.\n",
            "\n",
            "String: By donating to this project, you contribute to the purchase of medical equipment, hospital furniture and the improvement of the physical infrastructure of the Children Hospital of San Vicente Foundation. Thus, every year, 60,000 children in Colombia, with serious illnesses, will continue to receive the best specialized medical care.\n",
            "\n",
            "String: The food scarcity is a severe issue that impacts the optimal growth and development of young children that Albergue supports. With your help, we can make it possible for a child to eat three meals a day and the essential nutritional follow-up necessary for their integral development.\n",
            "\n",
            "String: Isha Vidhya English-medium schools provide high quality school education to rural children in India who cannot otherwise access or afford it. The schools adopt a nurturing, holistic approach to education, helping children learn joyfully. 64% of the children get full sponsorship while rest pay a subsidized fee. Your donation goes towards critical infrastructure like learning material (including STEM), classrooms, school bus, etc. for 10 Isha Vidhya rural schools & Govt. Schools Support Program.\n",
            "\n"
          ]
        }
      ]
    },
    {
      "cell_type": "code",
      "source": [
        "import pickle"
      ],
      "metadata": {
        "id": "aeKxovwEYbIN"
      },
      "execution_count": 340,
      "outputs": []
    },
    {
      "cell_type": "code",
      "source": [
        "with open('model.pkl', 'wb') as file:\n",
        "    pickle.dump(model, file)"
      ],
      "metadata": {
        "id": "Pj-ZqtoAYcme"
      },
      "execution_count": 343,
      "outputs": []
    }
  ]
}