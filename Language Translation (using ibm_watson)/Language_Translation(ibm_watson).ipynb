{
  "nbformat": 4,
  "nbformat_minor": 0,
  "metadata": {
    "colab": {
      "provenance": []
    },
    "kernelspec": {
      "name": "python3",
      "display_name": "Python 3"
    },
    "language_info": {
      "name": "python"
    }
  },
  "cells": [
    {
      "cell_type": "code",
      "execution_count": 1,
      "metadata": {
        "colab": {
          "base_uri": "https://localhost:8080/"
        },
        "id": "sy_iGSkwllPU",
        "outputId": "b50f31ff-c866-421f-cc41-0a4136de5490"
      },
      "outputs": [
        {
          "output_type": "stream",
          "name": "stdout",
          "text": [
            "Collecting ibm_watson\n",
            "  Downloading ibm-watson-7.0.1.tar.gz (389 kB)\n",
            "\u001b[?25l     \u001b[90m━━━━━━━━━━━━━━━━━━━━━━━━━━━━━━━━━━━━━━━━\u001b[0m \u001b[32m0.0/389.3 kB\u001b[0m \u001b[31m?\u001b[0m eta \u001b[36m-:--:--\u001b[0m\r\u001b[2K     \u001b[91m━━━━━━━━━\u001b[0m\u001b[90m╺\u001b[0m\u001b[90m━━━━━━━━━━━━━━━━━━━━━━━━━━━━━━\u001b[0m \u001b[32m92.2/389.3 kB\u001b[0m \u001b[31m2.5 MB/s\u001b[0m eta \u001b[36m0:00:01\u001b[0m\r\u001b[2K     \u001b[90m━━━━━━━━━━━━━━━━━━━━━━━━━━━━━━━━━━━━━━━━\u001b[0m \u001b[32m389.3/389.3 kB\u001b[0m \u001b[31m6.1 MB/s\u001b[0m eta \u001b[36m0:00:00\u001b[0m\n",
            "\u001b[?25h  Installing build dependencies ... \u001b[?25l\u001b[?25hdone\n",
            "  Getting requirements to build wheel ... \u001b[?25l\u001b[?25hdone\n",
            "  Preparing metadata (pyproject.toml) ... \u001b[?25l\u001b[?25hdone\n",
            "Requirement already satisfied: requests<3.0,>=2.0 in /usr/local/lib/python3.10/dist-packages (from ibm_watson) (2.31.0)\n",
            "Requirement already satisfied: python-dateutil>=2.5.3 in /usr/local/lib/python3.10/dist-packages (from ibm_watson) (2.8.2)\n",
            "Requirement already satisfied: websocket-client>=1.1.0 in /usr/local/lib/python3.10/dist-packages (from ibm_watson) (1.7.0)\n",
            "Collecting ibm-cloud-sdk-core==3.*,>=3.3.6 (from ibm_watson)\n",
            "  Downloading ibm-cloud-sdk-core-3.19.1.tar.gz (59 kB)\n",
            "\u001b[2K     \u001b[90m━━━━━━━━━━━━━━━━━━━━━━━━━━━━━━━━━━━━━━━━\u001b[0m \u001b[32m59.1/59.1 kB\u001b[0m \u001b[31m7.5 MB/s\u001b[0m eta \u001b[36m0:00:00\u001b[0m\n",
            "\u001b[?25h  Installing build dependencies ... \u001b[?25l\u001b[?25hdone\n",
            "  Getting requirements to build wheel ... \u001b[?25l\u001b[?25hdone\n",
            "  Preparing metadata (pyproject.toml) ... \u001b[?25l\u001b[?25hdone\n",
            "Collecting urllib3<3.0.0,>=2.1.0 (from ibm-cloud-sdk-core==3.*,>=3.3.6->ibm_watson)\n",
            "  Downloading urllib3-2.2.1-py3-none-any.whl (121 kB)\n",
            "\u001b[2K     \u001b[90m━━━━━━━━━━━━━━━━━━━━━━━━━━━━━━━━━━━━━━━━\u001b[0m \u001b[32m121.1/121.1 kB\u001b[0m \u001b[31m15.2 MB/s\u001b[0m eta \u001b[36m0:00:00\u001b[0m\n",
            "\u001b[?25hCollecting PyJWT<3.0.0,>=2.8.0 (from ibm-cloud-sdk-core==3.*,>=3.3.6->ibm_watson)\n",
            "  Downloading PyJWT-2.8.0-py3-none-any.whl (22 kB)\n",
            "Requirement already satisfied: six>=1.5 in /usr/local/lib/python3.10/dist-packages (from python-dateutil>=2.5.3->ibm_watson) (1.16.0)\n",
            "Requirement already satisfied: charset-normalizer<4,>=2 in /usr/local/lib/python3.10/dist-packages (from requests<3.0,>=2.0->ibm_watson) (3.3.2)\n",
            "Requirement already satisfied: idna<4,>=2.5 in /usr/local/lib/python3.10/dist-packages (from requests<3.0,>=2.0->ibm_watson) (3.6)\n",
            "Requirement already satisfied: certifi>=2017.4.17 in /usr/local/lib/python3.10/dist-packages (from requests<3.0,>=2.0->ibm_watson) (2024.2.2)\n",
            "Building wheels for collected packages: ibm_watson, ibm-cloud-sdk-core\n",
            "  Building wheel for ibm_watson (pyproject.toml) ... \u001b[?25l\u001b[?25hdone\n",
            "  Created wheel for ibm_watson: filename=ibm_watson-7.0.1-py3-none-any.whl size=389784 sha256=6b662a63f5276758f237b056c92a99cf6f1767f47fbc5259fb6a31f59c7abe62\n",
            "  Stored in directory: /root/.cache/pip/wheels/34/df/f4/f8edc5ba0637dd4bfb2029741ae20402976a49d1b6bc113553\n",
            "  Building wheel for ibm-cloud-sdk-core (pyproject.toml) ... \u001b[?25l\u001b[?25hdone\n",
            "  Created wheel for ibm-cloud-sdk-core: filename=ibm_cloud_sdk_core-3.19.1-py3-none-any.whl size=95828 sha256=994be682b72ff675e38ac5542de81951e6de7bf3f9fa9cb953fb6200ed7d8b1e\n",
            "  Stored in directory: /root/.cache/pip/wheels/d9/b9/b2/2316e6df1fb93353a388ef07032b10655ca871c173b241e788\n",
            "Successfully built ibm_watson ibm-cloud-sdk-core\n",
            "Installing collected packages: urllib3, PyJWT, ibm-cloud-sdk-core, ibm_watson\n",
            "  Attempting uninstall: urllib3\n",
            "    Found existing installation: urllib3 2.0.7\n",
            "    Uninstalling urllib3-2.0.7:\n",
            "      Successfully uninstalled urllib3-2.0.7\n",
            "  Attempting uninstall: PyJWT\n",
            "    Found existing installation: PyJWT 2.3.0\n",
            "    Uninstalling PyJWT-2.3.0:\n",
            "      Successfully uninstalled PyJWT-2.3.0\n",
            "Successfully installed PyJWT-2.8.0 ibm-cloud-sdk-core-3.19.1 ibm_watson-7.0.1 urllib3-2.2.1\n"
          ]
        }
      ],
      "source": [
        "!pip install ibm_watson"
      ]
    },
    {
      "cell_type": "code",
      "source": [
        "API_key = 'I6eCsG3fVH6k-L_4MYAbvgD_eoXk1U480UC8GezkUUcc'\n",
        "url = 'https://api.eu-gb.language-translator.watson.cloud.ibm.com/instances/209d939b-59cb-4001-a707-013244cee735'"
      ],
      "metadata": {
        "id": "AZfzKf5Kls62"
      },
      "execution_count": 28,
      "outputs": []
    },
    {
      "cell_type": "code",
      "source": [
        "from ibm_watson import LanguageTranslatorV3\n",
        "from ibm_cloud_sdk_core.authenticators import IAMAuthenticator"
      ],
      "metadata": {
        "id": "oweV_qa6lxLe"
      },
      "execution_count": 3,
      "outputs": []
    },
    {
      "cell_type": "code",
      "source": [
        "authenticator = IAMAuthenticator(apikey=API_key)\n",
        "langtranslator = LanguageTranslatorV3(version='2018-05-01',\n",
        "                                     authenticator=authenticator)\n",
        "langtranslator.set_service_url(url)"
      ],
      "metadata": {
        "id": "wc5w5YCol2Nq"
      },
      "execution_count": 4,
      "outputs": []
    },
    {
      "cell_type": "code",
      "source": [
        "translation = langtranslator.translate(text='Hello World',model_id='en-hi')"
      ],
      "metadata": {
        "id": "FVpbS8Dxl-NU"
      },
      "execution_count": 5,
      "outputs": []
    },
    {
      "cell_type": "code",
      "source": [
        "translation.get_result()"
      ],
      "metadata": {
        "colab": {
          "base_uri": "https://localhost:8080/"
        },
        "id": "gXts4V5el-0f",
        "outputId": "c4535a2b-d896-4730-c9fb-52a5b2e0acf7"
      },
      "execution_count": 6,
      "outputs": [
        {
          "output_type": "execute_result",
          "data": {
            "text/plain": [
              "{'translations': [{'translation': 'हेलो वर्ल्ड'}],\n",
              " 'word_count': 2,\n",
              " 'character_count': 11}"
            ]
          },
          "metadata": {},
          "execution_count": 6
        }
      ]
    },
    {
      "cell_type": "code",
      "source": [
        "text = 'According to consensus in modern genetics anatomically modern humans first arrived on the Indian subcontinent from Africa between 73,000 and 55,000 years ago.[1] However, the earliest known human remains in South Asia date to 30,000 years ago. Settled life, which involves the transition from foraging to farming and pastoralism, began in South Asia around 7,000 BCE. At the site of Mehrgarh presence can be documented of the domestication of wheat and barley, rapidly followed by that of goats, sheep, and cattle.[2] By 4,500 BCE, settled life had spread more widely,[2] and began to gradually evolve into the Indus Valley Civilization, an early civilization of the Old world, which was contemporaneous with Ancient Egypt and Mesopotamia. This civilisation flourished between 2,500 BCE and 1900 BCE in what today is Pakistan and north-western India, and was noted for its urban planning, baked brick houses, elaborate drainage, and water supply.[3]'\n",
        "translation = langtranslator.translate(text=text,model_id='en-hi')\n",
        "translation.get_result()"
      ],
      "metadata": {
        "colab": {
          "base_uri": "https://localhost:8080/"
        },
        "id": "JuAsRWAJmBMD",
        "outputId": "d52ff1ae-619a-4fa9-bd0a-5b2c52cba7d7"
      },
      "execution_count": 7,
      "outputs": [
        {
          "output_type": "execute_result",
          "data": {
            "text/plain": [
              "{'translations': [{'translation': 'आधुनिक आनुवंशिकी में आम सहमति के अनुसार, शरीर रचना की दृष्टि से आधुनिक मानव पहले भारतीय उपमहाद्वीप पर अफ्रीका से 73,000 से 55,000 वर्ष पहले आ गए थे. [1] हालांकि, सबसे पहले ज्ञात मानव दक्षिण एशिया में 30,000 साल पहले की तारीख में ही रहता है. स्थायी जीवन, जिसमें खेती और पशुपालन के लिए संक्रमण से संक्रमण शामिल है, लगभग 7,000 बीसीई के आसपास दक्षिण एशिया में शुरू हुआ. मेहरगढ़ की उपस्थिति के स्थल पर गेहूं और जौ के निष्कासन का विवरण दिया जा सकता है, इसके बाद बकरी, भेड़ और मवेशी का तेजी से पालन किया जा सकता है. [2] 4,500 ई. पू. तक, बसा हुआ जीवन व्यापक रूप से फैल गया, [2] और धीरे-धीरे सिंधु घाटी की सभ्यता, जो प्राचीन मिस्र और मेसोपोटामिया के साथ समकालीन थी, में धीरे धीरे विकसित होना शुरू हुआ. यह सभ्यता 2,500 ईसा पूर्व और 1900 ईसा पूर्व के बीच विकसित हुई, जो आज पाकिस्तान और उत्तर-पश्चिमी भारत है, और इसकी शहरी नियोजन, पकी ईंट के घरों, विस्तृत जल निकासी और पानी की आपूर्ति के लिए जाना जाता था। [3]'}],\n",
              " 'word_count': 179,\n",
              " 'character_count': 949}"
            ]
          },
          "metadata": {},
          "execution_count": 7
        }
      ]
    },
    {
      "cell_type": "code",
      "source": [
        "translation.get_result()['translations'][0]['translation']"
      ],
      "metadata": {
        "colab": {
          "base_uri": "https://localhost:8080/",
          "height": 104
        },
        "id": "CYjvHn1YmGGL",
        "outputId": "00eda178-f1b7-4eed-955f-57b3ae232109"
      },
      "execution_count": 8,
      "outputs": [
        {
          "output_type": "execute_result",
          "data": {
            "text/plain": [
              "'आधुनिक आनुवंशिकी में आम सहमति के अनुसार, शरीर रचना की दृष्टि से आधुनिक मानव पहले भारतीय उपमहाद्वीप पर अफ्रीका से 73,000 से 55,000 वर्ष पहले आ गए थे. [1] हालांकि, सबसे पहले ज्ञात मानव दक्षिण एशिया में 30,000 साल पहले की तारीख में ही रहता है. स्थायी जीवन, जिसमें खेती और पशुपालन के लिए संक्रमण से संक्रमण शामिल है, लगभग 7,000 बीसीई के आसपास दक्षिण एशिया में शुरू हुआ. मेहरगढ़ की उपस्थिति के स्थल पर गेहूं और जौ के निष्कासन का विवरण दिया जा सकता है, इसके बाद बकरी, भेड़ और मवेशी का तेजी से पालन किया जा सकता है. [2] 4,500 ई. पू. तक, बसा हुआ जीवन व्यापक रूप से फैल गया, [2] और धीरे-धीरे सिंधु घाटी की सभ्यता, जो प्राचीन मिस्र और मेसोपोटामिया के साथ समकालीन थी, में धीरे धीरे विकसित होना शुरू हुआ. यह सभ्यता 2,500 ईसा पूर्व और 1900 ईसा पूर्व के बीच विकसित हुई, जो आज पाकिस्तान और उत्तर-पश्चिमी भारत है, और इसकी शहरी नियोजन, पकी ईंट के घरों, विस्तृत जल निकासी और पानी की आपूर्ति के लिए जाना जाता था। [3]'"
            ],
            "application/vnd.google.colaboratory.intrinsic+json": {
              "type": "string"
            }
          },
          "metadata": {},
          "execution_count": 8
        }
      ]
    },
    {
      "cell_type": "code",
      "source": [
        "import json"
      ],
      "metadata": {
        "id": "GZmkfeVmmrY9"
      },
      "execution_count": 10,
      "outputs": []
    },
    {
      "cell_type": "code",
      "source": [
        "text = str(input())\n",
        "translation = langtranslator.translate(text=text,model_id='en-ja')\n",
        "translation.get_result()['translations'][0]['translation']"
      ],
      "metadata": {
        "colab": {
          "base_uri": "https://localhost:8080/",
          "height": 90
        },
        "id": "eaOggk62mPSR",
        "outputId": "ad1838c7-a9ca-43e0-e788-aa07df1bebce"
      },
      "execution_count": 24,
      "outputs": [
        {
          "name": "stdout",
          "output_type": "stream",
          "text": [
            "I am the bone of my sword. Steel is my body, and fire is my blood. I have created over a thousand blades, Unknown to death, Nor known to life. Have withstood pain to create many weapons. Yet those hands will never hold anything. So, as I pray - Unlimited Blade Works!\n"
          ]
        },
        {
          "output_type": "execute_result",
          "data": {
            "text/plain": [
              "'私は剣の骨格です。 鉄は私の体で、火は私の血です。 私は千の刃の上に創造したもので、無知なのは死にも、 Nor も人生にも 多くの武器を作るのに痛みを耐える しかし、これらの手は何も保持しない。 私が祈るのは無制限のブレード・ワークス !'"
            ],
            "application/vnd.google.colaboratory.intrinsic+json": {
              "type": "string"
            }
          },
          "metadata": {},
          "execution_count": 24
        }
      ]
    }
  ]
}